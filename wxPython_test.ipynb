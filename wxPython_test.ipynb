{
 "cells": [
  {
   "cell_type": "code",
   "execution_count": 2,
   "metadata": {
    "collapsed": false
   },
   "outputs": [
    {
     "data": {
      "text/plain": [
       "0"
      ]
     },
     "execution_count": 2,
     "metadata": {},
     "output_type": "execute_result"
    }
   ],
   "source": [
    "#!/usr/bin/python\n",
    "# -*- coding: <<encoding>> -*-\n",
    "#-------------------------------------------------------------------------------\n",
    "#   <<project>>\n",
    "# \n",
    "#-------------------------------------------------------------------------------\n",
    "\n",
    "import wx, wx.html\n",
    "import sys\n",
    "\n",
    "aboutText = \"\"\"<p>Sorry, there is no information about this program. It is\n",
    "running on version %(wxpy)s of <b>wxPython</b> and %(python)s of <b>Python</b>.\n",
    "See <a href=\"http://wiki.wxpython.org\">wxPython Wiki</a></p>\"\"\" \n",
    "\n",
    "class HtmlWindow(wx.html.HtmlWindow):\n",
    "    def __init__(self, parent, id, size=(600,400)):\n",
    "        wx.html.HtmlWindow.__init__(self,parent, id, size=size)\n",
    "        if \"gtk2\" in wx.PlatformInfo:\n",
    "            self.SetStandardFonts()\n",
    "\n",
    "    def OnLinkClicked(self, link):\n",
    "        wx.LaunchDefaultBrowser(link.GetHref())\n",
    "        \n",
    "class AboutBox(wx.Dialog):\n",
    "    def __init__(self):\n",
    "        wx.Dialog.__init__(self, None, -1, \"About <<project>>\",\n",
    "            style=wx.DEFAULT_DIALOG_STYLE|wx.THICK_FRAME|wx.RESIZE_BORDER|\n",
    "                wx.TAB_TRAVERSAL)\n",
    "        hwin = HtmlWindow(self, -1, size=(400,200))\n",
    "        vers = {}\n",
    "        vers[\"python\"] = sys.version.split()[0]\n",
    "        vers[\"wxpy\"] = wx.VERSION_STRING\n",
    "        hwin.SetPage(aboutText % vers)\n",
    "        btn = hwin.FindWindowById(wx.ID_OK)\n",
    "        irep = hwin.GetInternalRepresentation()\n",
    "        hwin.SetSize((irep.GetWidth()+25, irep.GetHeight()+10))\n",
    "        self.SetClientSize(hwin.GetSize())\n",
    "        self.CentreOnParent(wx.BOTH)\n",
    "        self.SetFocus()\n",
    "\n",
    "class Frame(wx.Frame):\n",
    "    def __init__(self, title):\n",
    "        wx.Frame.__init__(self, None, title=title, pos=(150,150), size=(350,200))\n",
    "        self.Bind(wx.EVT_CLOSE, self.OnClose)\n",
    "\n",
    "        menuBar = wx.MenuBar()\n",
    "        menu = wx.Menu()\n",
    "        m_exit = menu.Append(wx.ID_EXIT, \"E&xit\\tAlt-X\", \"Close window and exit program.\")\n",
    "        self.Bind(wx.EVT_MENU, self.OnClose, m_exit)\n",
    "        menuBar.Append(menu, \"&File\")\n",
    "        menu = wx.Menu()\n",
    "        m_about = menu.Append(wx.ID_ABOUT, \"&About\", \"Information about this program\")\n",
    "        self.Bind(wx.EVT_MENU, self.OnAbout, m_about)\n",
    "        menuBar.Append(menu, \"&Help\")\n",
    "        self.SetMenuBar(menuBar)\n",
    "        \n",
    "        self.statusbar = self.CreateStatusBar()\n",
    "\n",
    "        panel = wx.Panel(self)\n",
    "        box = wx.BoxSizer(wx.VERTICAL)\n",
    "        \n",
    "        m_text = wx.StaticText(panel, -1, \"Hello World!\")\n",
    "        m_text.SetFont(wx.Font(14, wx.SWISS, wx.NORMAL, wx.BOLD))\n",
    "        m_text.SetSize(m_text.GetBestSize())\n",
    "        box.Add(m_text, 0, wx.ALL, 10)\n",
    "        \n",
    "        m_close = wx.Button(panel, wx.ID_CLOSE, \"Close\")\n",
    "        m_close.Bind(wx.EVT_BUTTON, self.OnClose)\n",
    "        box.Add(m_close, 0, wx.ALL, 10)\n",
    "        \n",
    "        panel.SetSizer(box)\n",
    "        panel.Layout()\n",
    "\n",
    "    def OnClose(self, event):\n",
    "        dlg = wx.MessageDialog(self, \n",
    "            \"Do you really want to close this application?\",\n",
    "            \"Confirm Exit\", wx.OK|wx.CANCEL|wx.ICON_QUESTION)\n",
    "        result = dlg.ShowModal()\n",
    "        dlg.Destroy()\n",
    "        if result == wx.ID_OK:\n",
    "            self.Destroy()\n",
    "\n",
    "    def OnAbout(self, event):\n",
    "        dlg = AboutBox()\n",
    "        dlg.ShowModal()\n",
    "        dlg.Destroy()  \n",
    "\n",
    "app = wx.App(redirect=True)   # Error messages go to popup window\n",
    "top = Frame(\"<<project>>\")\n",
    "top.Show()\n",
    "app.MainLoop()"
   ]
  }
 ],
 "metadata": {
  "anaconda-cloud": {},
  "kernelspec": {
   "display_name": "Python [conda root]",
   "language": "python",
   "name": "conda-root-py"
  },
  "language_info": {
   "codemirror_mode": {
    "name": "ipython",
    "version": 3
   },
   "file_extension": ".py",
   "mimetype": "text/x-python",
   "name": "python",
   "nbconvert_exporter": "python",
   "pygments_lexer": "ipython3",
   "version": "3.5.2"
  }
 },
 "nbformat": 4,
 "nbformat_minor": 2
}
