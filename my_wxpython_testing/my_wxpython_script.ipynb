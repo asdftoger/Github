{
 "cells": [
  {
   "cell_type": "markdown",
   "metadata": {},
   "source": [
    "Create a basic frame\n"
   ]
  },
  {
   "cell_type": "code",
   "execution_count": 1,
   "metadata": {
    "collapsed": false
   },
   "outputs": [],
   "source": [
    "import wx\n",
    "\n",
    "class myFrame(wx.Frame):\n",
    "    def __init__(self,parent,title):\n",
    "        wx.Frame.__init__(self,parent = parent,title=title,size = (300,300))\n",
    "        text = wx.StaticText(self,label = 'This is in the textbox')\n",
    "\n",
    "if __name__ == '__main__':\n",
    "    app = wx.App(redirect = False)\n",
    "    frame = myFrame(None,'This is a title')\n",
    "    frame.Show()\n",
    "    app.MainLoop()\n",
    "    exit()"
   ]
  }
 ],
 "metadata": {
  "kernelspec": {
   "display_name": "Python [conda root]",
   "language": "python",
   "name": "conda-root-py"
  },
  "language_info": {
   "codemirror_mode": {
    "name": "ipython",
    "version": 3
   },
   "file_extension": ".py",
   "mimetype": "text/x-python",
   "name": "python",
   "nbconvert_exporter": "python",
   "pygments_lexer": "ipython3",
   "version": "3.5.2"
  }
 },
 "nbformat": 4,
 "nbformat_minor": 2
}
