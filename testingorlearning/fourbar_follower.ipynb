{
 "cells": [
  {
   "cell_type": "markdown",
   "metadata": {},
   "source": [
    "Created by Brandon Lay\n",
    "asdftoger@gmail.com\n",
    "\n",
    "\n",
    "This program will use complex vector equations for plotting, using the Freudenstein equation to calculate angles. \n",
    "The fourbar linkage is a DOF = 1 mechanism. \n",
    "\n",
    "This will plot Grashoff and Non-grashoff conditions\n",
    "It will also plot the path of a follower mechanism\n"
   ]
  },
  {
   "cell_type": "code",
   "execution_count": 163,
   "metadata": {
    "collapsed": true
   },
   "outputs": [],
   "source": [
    "import matplotlib.pyplot as plt\n",
    "import numpy as np\n",
    "import cmath"
   ]
  },
  {
   "cell_type": "markdown",
   "metadata": {},
   "source": [
    "CHANGE ME!!!!!\n",
    "\n",
    "abcd are linkage lengths\n",
    "\n",
    "Angle refers to the follower\n",
    "\n",
    "Angle_cg refers to follower centre of gravity"
   ]
  },
  {
   "cell_type": "code",
   "execution_count": 164,
   "metadata": {
    "collapsed": false
   },
   "outputs": [],
   "source": [
    "\n",
    "a,b,c,d = 230,350,300,400\n",
    "\n",
    "\n",
    "#Change follower parameters\n",
    "#Degrees\n",
    "Angle = 40\n",
    "Angle_cg = Angle-20\n",
    "\n",
    "#Relative magnitude, NOT ABSOLUTE LENGTH\n",
    "Len = 0.5\n",
    "Len_cg = 0.4\n",
    "\n",
    "#Choose number of times to repeat animation\n",
    "repeat = 2\n"
   ]
  },
  {
   "cell_type": "code",
   "execution_count": 165,
   "metadata": {
    "collapsed": false
   },
   "outputs": [
    {
     "data": {
      "text/plain": [
       "200"
      ]
     },
     "execution_count": 165,
     "metadata": {},
     "output_type": "execute_result"
    }
   ],
   "source": [
    "ROTATION = 'cw'\n",
    "MODE = 'open'\n",
    "#Lengths of the linkages, \n",
    "#a,b,c,d represent linkages starting from left fixed and going clockwise\n",
    "#makes sure that the grashoff condition is satisfied\n",
    "#Since linkage a is the driving linkage, b+c must be greater than a+d\n",
    "\n",
    "\n",
    "\n",
    "#the angle that the linkages make wrt xaxis of the fixed points a,d\n",
    "#step controls how fast the linkage drives\n",
    "step = 0.01\n",
    "if ROTATION == 'cw':\n",
    "    th_a = np.arange(2*np.pi,0,-step*np.pi)\n",
    "else:\n",
    "    th_a = np.arange(0,2*np.pi,step*np.pi)\n",
    "\n",
    "#Degrees, used for drawing arcs\n",
    "th_a_d = th_a * 180/np.pi\n",
    "len(th_a)"
   ]
  },
  {
   "cell_type": "code",
   "execution_count": 166,
   "metadata": {
    "collapsed": false
   },
   "outputs": [],
   "source": [
    "#Freudenstein equation\n",
    "\n",
    "K1 = d/a\n",
    "K2 = d/c\n",
    "K3 = (a**2-b**2+c**2+d**2)/(2*a*c)\n",
    "A = np.cos(th_a) - K1 - K2*np.cos(th_a) + K3\n",
    "B = -2*np.sin(th_a)\n",
    "C = K1 - (K2+1)*np.cos(th_a) + K3\n",
    "\n",
    "#Grashoff condition\n",
    "disc = (B**2)-4*A*C \n",
    "\n",
    "#Which elements are greater than 0? some are expected negative for non-grashoff\n",
    "# np.greater_equal(disc,0)"
   ]
  },
  {
   "cell_type": "code",
   "execution_count": 167,
   "metadata": {
    "collapsed": false
   },
   "outputs": [],
   "source": [
    "#This extracts the OPEN solutions to the non-grashoff, calculate freudenstein twice\n",
    "if not(np.greater_equal(disc,0).all()):\n",
    "    condition = np.greater_equal(disc,0)\n",
    "    th_a = np.extract(condition, th_a)\n",
    "    condition = np.less_equal(th_a, np.pi)\n",
    "    th_a = np.extract(condition,th_a)\n",
    "    th_a\n",
    "    #Repeat the pattern as many times specified\n",
    "\n",
    "    #np.flipud flips left to right\n",
    "    #np.r_ concatenate lengthwise\n",
    "    #np.tile repeats\n",
    "    th_a = np.tile(np.r_[th_a,np.flipud(th_a)],repeat)\n",
    "\n",
    "    #Redoing Freudenstein equation\n",
    "\n",
    "    K1 = d/a\n",
    "    K2 = d/c\n",
    "    K3 = (a**2-b**2+c**2+d**2)/(2*a*c)\n",
    "    A = np.cos(th_a) - K1 - K2*np.cos(th_a) + K3\n",
    "    B = -2*np.sin(th_a)\n",
    "    C = K1 - (K2+1)*np.cos(th_a) + K3\n",
    "\n",
    "    #Grashoff condition\n",
    "    disc = (B**2)-4*A*C \n",
    "\n",
    "    #Which elements are greater than 0? some are expected negative for non-grashoff\n",
    "    # np.greater_equal(disc,0)"
   ]
  },
  {
   "cell_type": "code",
   "execution_count": 168,
   "metadata": {
    "collapsed": false
   },
   "outputs": [],
   "source": [
    "if MODE =='open':\n",
    "    th_c = 2*np.arctan((-B - np.sqrt(disc) )/(2*A))\n",
    "else:\n",
    "    th_c = 2*np.arctan((-B + np.sqrt(disc) )/(2*A))\n",
    "    \n",
    "\n",
    "#Degrees, used for drawing arcs\n",
    "th_c_d = th_c * 180/np.pi"
   ]
  },
  {
   "cell_type": "code",
   "execution_count": 169,
   "metadata": {
    "collapsed": false
   },
   "outputs": [],
   "source": [
    "th_d = -np.pi*np.ones(len(th_c))"
   ]
  },
  {
   "cell_type": "code",
   "execution_count": 170,
   "metadata": {
    "collapsed": false
   },
   "outputs": [],
   "source": [
    "phase1 = [cmath.exp(1j*i) for i in th_a]\n",
    "phase3 = [cmath.exp(1j*i) for i in th_c]\n",
    "phase4 = [cmath.exp(1j*i) for i in th_d]"
   ]
  },
  {
   "cell_type": "code",
   "execution_count": 171,
   "metadata": {
    "collapsed": true
   },
   "outputs": [],
   "source": [
    "R1 = a*np.array(phase1)\n",
    "R3 = c*np.array(phase3)\n",
    "R4 = -d*np.array(phase4)"
   ]
  },
  {
   "cell_type": "code",
   "execution_count": 172,
   "metadata": {
    "collapsed": false,
    "scrolled": false
   },
   "outputs": [],
   "source": [
    "x1,y1 = np.zeros(len(R1)),np.zeros(len(R1))\n",
    "x2,y2 = np.real(R1),np.imag(R1)\n",
    "x3,y3 = np.real(R3+R4),np.imag(R3+R4)\n",
    "x4,y4 = np.real(R4),np.imag(R4) \n"
   ]
  },
  {
   "cell_type": "code",
   "execution_count": 173,
   "metadata": {
    "collapsed": false,
    "scrolled": true
   },
   "outputs": [],
   "source": [
    "th_b = np.arctan2((y3-y2),(x3-x2))\n",
    "# th_b = (th_b + 2*np.pi ) % 2*np.pi\n",
    "\n",
    "phase2 = [cmath.exp(1j*i) for i in th_b]\n",
    "R2 = b*np.array(phase2)\n",
    "\n",
    "\n"
   ]
  },
  {
   "cell_type": "code",
   "execution_count": 175,
   "metadata": {
    "collapsed": false
   },
   "outputs": [],
   "source": [
    "\n",
    "#Creating angle of the follower wrt ground\n",
    "\n",
    "f_d = Angle*np.pi/180*np.ones(len(th_a))\n",
    "f_d += th_b\n",
    "\n",
    "f_dCG = Angle_cg*np.pi/180*np.ones(len(th_a))\n",
    "f_dCG += th_b\n",
    "#Follower size\n",
    "f = Len*b\n",
    "fCG = Len_cg*b\n"
   ]
  },
  {
   "cell_type": "code",
   "execution_count": 176,
   "metadata": {
    "collapsed": true
   },
   "outputs": [],
   "source": [
    "#Phase of follower \n",
    "phasef = [cmath.exp(1j*i) for i in f_d]\n",
    "Rf = R1+ f*(np.array(phasef))\n",
    "xf,yf = np.real(Rf),np.imag(Rf)\n",
    "\n",
    "#Phase of follower centre of gravity\n",
    "phasef_CG = [cmath.exp(1j*i) for i in f_dCG]\n",
    "Rf_CG = R1+ fCG*(np.array(phasef_CG))\n",
    "xfg,yfg = np.real(Rf_CG),np.imag(Rf_CG)"
   ]
  }
 ],
 "metadata": {
  "anaconda-cloud": {},
  "kernelspec": {
   "display_name": "Python [default]",
   "language": "python",
   "name": "python3"
  },
  "language_info": {
   "codemirror_mode": {
    "name": "ipython",
    "version": 3
   },
   "file_extension": ".py",
   "mimetype": "text/x-python",
   "name": "python",
   "nbconvert_exporter": "python",
   "pygments_lexer": "ipython3",
   "version": "3.5.2"
  }
 },
 "nbformat": 4,
 "nbformat_minor": 2
}
