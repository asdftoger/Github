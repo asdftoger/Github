{
 "cells": [
  {
   "cell_type": "code",
   "execution_count": 5,
   "metadata": {
    "collapsed": false
   },
   "outputs": [],
   "source": [
    "from numpy import arange, sin, pi\n",
    "import matplotlib\n",
    "matplotlib.use('WXAgg')\n",
    "\n",
    "from matplotlib.backends.backend_wxagg import FigureCanvasWxAgg as FigureCanvas\n",
    "from matplotlib.backends.backend_wx import NavigationToolbar2Wx\n",
    "from matplotlib.figure import Figure\n",
    "\n",
    "import wx\n",
    "\n",
    "class CanvasPanel(wx.Panel):\n",
    "    def __init__(self, parent):\n",
    "        wx.Panel.__init__(self, parent)\n",
    "        self.figure = Figure()\n",
    "        self.axes = self.figure.add_subplot(111)\n",
    "        self.canvas = FigureCanvas(self, -1, self.figure)\n",
    "        self.sizer = wx.BoxSizer(wx.VERTICAL)\n",
    "        self.sizer.Add(self.canvas, 1, wx.LEFT | wx.TOP | wx.GROW)\n",
    "        self.SetSizer(self.sizer)\n",
    "        self.Fit()\n",
    "\n",
    "    def draw(self):\n",
    "        t = arange(0.0, 3.0, 0.01)\n",
    "        s = sin(2 * pi * t)\n",
    "        self.axes.plot(t, s)\n"
   ]
  },
  {
   "cell_type": "code",
   "execution_count": 6,
   "metadata": {
    "collapsed": false
   },
   "outputs": [
    {
     "name": "stderr",
     "output_type": "stream",
     "text": [
      "C:\\Users\\John\\Anaconda3\\lib\\site-packages\\ipykernel\\__main__.py:2: wxPyDeprecationWarning: Using deprecated class PySimpleApp. Use :class:`App` instead.\n",
      "  from ipykernel import kernelapp as app\n"
     ]
    },
    {
     "ename": "PyNoAppError",
     "evalue": "The wx.App object must be created first!",
     "output_type": "error",
     "traceback": [
      "\u001b[0;31m---------------------------------------------------------------------------\u001b[0m",
      "\u001b[0;31mPyNoAppError\u001b[0m                              Traceback (most recent call last)",
      "\u001b[0;32m<ipython-input-6-ae1e7e0506f6>\u001b[0m in \u001b[0;36m<module>\u001b[0;34m()\u001b[0m\n\u001b[1;32m      1\u001b[0m \u001b[1;32mif\u001b[0m \u001b[0m__name__\u001b[0m \u001b[1;33m==\u001b[0m \u001b[1;34m\"__main__\"\u001b[0m\u001b[1;33m:\u001b[0m\u001b[1;33m\u001b[0m\u001b[0m\n\u001b[1;32m      2\u001b[0m     \u001b[0mapp\u001b[0m \u001b[1;33m=\u001b[0m \u001b[0mwx\u001b[0m\u001b[1;33m.\u001b[0m\u001b[0mPySimpleApp\u001b[0m\u001b[1;33m(\u001b[0m\u001b[1;33m)\u001b[0m\u001b[1;33m\u001b[0m\u001b[0m\n\u001b[0;32m----> 3\u001b[0;31m     \u001b[0mfr\u001b[0m \u001b[1;33m=\u001b[0m \u001b[0mwx\u001b[0m\u001b[1;33m.\u001b[0m\u001b[0mFrame\u001b[0m\u001b[1;33m(\u001b[0m\u001b[1;32mNone\u001b[0m\u001b[1;33m,\u001b[0m \u001b[0mtitle\u001b[0m\u001b[1;33m=\u001b[0m\u001b[1;34m'test'\u001b[0m\u001b[1;33m)\u001b[0m\u001b[1;33m\u001b[0m\u001b[0m\n\u001b[0m\u001b[1;32m      4\u001b[0m     \u001b[0mpanel\u001b[0m \u001b[1;33m=\u001b[0m \u001b[0mCanvasPanel\u001b[0m\u001b[1;33m(\u001b[0m\u001b[0mfr\u001b[0m\u001b[1;33m)\u001b[0m\u001b[1;33m\u001b[0m\u001b[0m\n\u001b[1;32m      5\u001b[0m     \u001b[0mpanel\u001b[0m\u001b[1;33m.\u001b[0m\u001b[0mdraw\u001b[0m\u001b[1;33m(\u001b[0m\u001b[1;33m)\u001b[0m\u001b[1;33m\u001b[0m\u001b[0m\n",
      "\u001b[0;31mPyNoAppError\u001b[0m: The wx.App object must be created first!"
     ]
    }
   ],
   "source": [
    "if __name__ == \"__main__\":\n",
    "    app = wx.PySimpleApp()\n",
    "    fr = wx.Frame(None, title='test')\n",
    "    panel = CanvasPanel(fr)\n",
    "    panel.draw()\n",
    "    fr.Show()\n",
    "    app.MainLoop()"
   ]
  },
  {
   "cell_type": "code",
   "execution_count": null,
   "metadata": {
    "collapsed": true
   },
   "outputs": [],
   "source": []
  }
 ],
 "metadata": {
  "kernelspec": {
   "display_name": "Python [conda root]",
   "language": "python",
   "name": "conda-root-py"
  },
  "language_info": {
   "codemirror_mode": {
    "name": "ipython",
    "version": 3
   },
   "file_extension": ".py",
   "mimetype": "text/x-python",
   "name": "python",
   "nbconvert_exporter": "python",
   "pygments_lexer": "ipython3",
   "version": "3.5.2"
  }
 },
 "nbformat": 4,
 "nbformat_minor": 2
}
