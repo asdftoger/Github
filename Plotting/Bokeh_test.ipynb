{
 "cells": [
  {
   "cell_type": "markdown",
   "metadata": {},
   "source": [
    "Using Bokeh to do a basic line scatter plot"
   ]
  },
  {
   "cell_type": "code",
   "execution_count": 12,
   "metadata": {
    "collapsed": false
   },
   "outputs": [],
   "source": [
    "#Import libraries\n",
    "\n",
    "from bokeh.plotting import figure\n",
    "# Import output_file and show from bokeh.io\n",
    "from bokeh.io import output_file, show\n",
    "\n",
    "import numpy as np\n"
   ]
  },
  {
   "cell_type": "code",
   "execution_count": 17,
   "metadata": {
    "collapsed": false
   },
   "outputs": [
    {
     "name": "stderr",
     "output_type": "stream",
     "text": [
      "INFO:bokeh.core.state:Session output file 'bokeh_test_plot.html' already exists, will be overwritten.\n"
     ]
    }
   ],
   "source": [
    "x = np.array([i for i in range(100)])\n",
    "y = np.array([i for i in range(100)])\n",
    "\n",
    "# Create the figure: p\n",
    "p = figure(tools='box_select')\n",
    "\n",
    "# Add a circle glyph to the figure p\n",
    "p.circle(x,y)\n",
    "p.line(x+10,y)\n",
    "\n",
    "# Call the output_file() function and specify the name of the file\n",
    "output_file(\"bokeh_test_plot.html\")\n",
    "\n",
    "# Display the plot\n",
    "show(p)"
   ]
  }
 ],
 "metadata": {
  "anaconda-cloud": {},
  "kernelspec": {
   "display_name": "Python [conda root]",
   "language": "python",
   "name": "conda-root-py"
  },
  "language_info": {
   "codemirror_mode": {
    "name": "ipython",
    "version": 3
   },
   "file_extension": ".py",
   "mimetype": "text/x-python",
   "name": "python",
   "nbconvert_exporter": "python",
   "pygments_lexer": "ipython3",
   "version": "3.5.2"
  }
 },
 "nbformat": 4,
 "nbformat_minor": 2
}
